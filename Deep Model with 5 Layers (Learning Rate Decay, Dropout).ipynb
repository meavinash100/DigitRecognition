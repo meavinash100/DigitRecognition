{
 "cells": [
  {
   "cell_type": "code",
   "execution_count": null,
   "metadata": {
    "collapsed": true
   },
   "outputs": [],
   "source": [
    "import math\n",
    "import random\n",
    "import tensorflow as tf\n",
    "import numpy as np\n",
    "from mnist import MNIST"
   ]
  },
  {
   "cell_type": "code",
   "execution_count": null,
   "metadata": {
    "collapsed": true
   },
   "outputs": [],
   "source": [
    "def forward_propagation_for_predict(X, parameters):\n",
    "    # Retrieve the parameters from the dictionary \"parameters\" \n",
    "    W1 = parameters['W1']\n",
    "    b1 = parameters['b1']\n",
    "    W2 = parameters['W2']\n",
    "    b2 = parameters['b2']\n",
    "    W3 = parameters['W3']\n",
    "    b3 = parameters['b3'] \n",
    "    W4 = parameters['W4']\n",
    "    b4 = parameters['b4'] \n",
    "    W5 = parameters['W5']\n",
    "    b5 = parameters['b5'] \n",
    "                                                           # Numpy Equivalents:\n",
    "    Z1 = tf.add(tf.matmul(W1, X), b1)                      # Z1 = np.dot(W1, X) + b1\n",
    "    A1 = tf.nn.relu(Z1)                                    # A1 = relu(Z1)\n",
    "    Z2 = tf.add(tf.matmul(W2, A1), b2)                     # Z2 = np.dot(W2, a1) + b2\n",
    "    A2 = tf.nn.relu(Z2)                                    # A2 = relu(Z2)\n",
    "    Z3 = tf.add(tf.matmul(W3, A2), b3)                     # Z3 = np.dot(W3,Z2) + b3\n",
    "    A3 = tf.nn.relu(Z3)\n",
    "    Z4 = tf.add(tf.matmul(W4, A3), b4) \n",
    "    A4 = tf.nn.relu(Z4)\n",
    "    Z5 = tf.add(tf.matmul(W5, A4), b5) \n",
    "    \n",
    "    return Z5"
   ]
  },
  {
   "cell_type": "code",
   "execution_count": null,
   "metadata": {
    "collapsed": true
   },
   "outputs": [],
   "source": [
    "def imageprepare(argv):\n",
    "    \"\"\"\n",
    "    This function returns the pixel values.\n",
    "    The imput is a png file location.\n",
    "    \"\"\"\n",
    "    im = Image.open(argv).convert('L')\n",
    "    width = float(im.size[0])\n",
    "    height = float(im.size[1])\n",
    "    newImage = Image.new('L', (28, 28), (255))  # creates white canvas of 28x28 pixels\n",
    "\n",
    "    if width > height:  # check which dimension is bigger\n",
    "        # Width is bigger. Width becomes 20 pixels.\n",
    "        nheight = int(round((20.0 / width * height), 0))  # resize height according to ratio width\n",
    "        if (nheight == 0):  # rare case but minimum is 1 pixel\n",
    "            nheight = 1\n",
    "            # resize and sharpen\n",
    "        img = im.resize((20, nheight), Image.ANTIALIAS).filter(ImageFilter.SHARPEN)\n",
    "        wtop = int(round(((28 - nheight) / 2), 0))  # calculate horizontal position\n",
    "        newImage.paste(img, (4, wtop))  # paste resized image on white canvas\n",
    "    else:\n",
    "        # Height is bigger. Heigth becomes 20 pixels.\n",
    "        nwidth = int(round((20.0 / height * width), 0))  # resize width according to ratio height\n",
    "        if (nwidth == 0):  # rare case but minimum is 1 pixel\n",
    "            nwidth = 1\n",
    "            # resize and sharpen\n",
    "        img = im.resize((nwidth, 20), Image.ANTIALIAS).filter(ImageFilter.SHARPEN)\n",
    "        wleft = int(round(((28 - nwidth) / 2), 0))  # caculate vertical pozition\n",
    "        newImage.paste(img, (wleft, 4))  # paste resized image on white canvas\n",
    "\n",
    "    # newImage.save(\"sample.png\n",
    "\n",
    "    tv = list(newImage.getdata())  # get pixel values\n",
    "\n",
    "    # normalize pixels to 0 and 1. 0 is pure white, 1 is pure black.\n",
    "    tva = [(255 - x) * 1.0 / 255.0 for x in tv]\n",
    "    return tva"
   ]
  },
  {
   "cell_type": "code",
   "execution_count": null,
   "metadata": {},
   "outputs": [],
   "source": [
    "#Loading Dataset\n",
    "mndata = MNIST('C:\\\\Users\\\\apundhir\\\\Desktop\\\\DigitRecon\\\\Datasets')\n",
    "\n",
    "images_train, labels_train = mndata.load_training()\n",
    "images_test, labels_test = mndata.load_testing()\n",
    "\n",
    "index = random.randrange(0, len(images_train))  # choose an index\n",
    "print(mndata.display(images_train[index]))"
   ]
  },
  {
   "cell_type": "code",
   "execution_count": null,
   "metadata": {},
   "outputs": [],
   "source": [
    "train_set_x_orig = np.array(images_train[:]) # train set features\n",
    "train_set_y_orig = np.array(labels_train[:]) # train set labels\n",
    "test_set_x_orig = np.array(images_test[:]) # test set features\n",
    "test_set_y_orig = np.array(labels_test[:]) # test set labels\n",
    "\n",
    "train_set_y_orig = train_set_y_orig.reshape((1, len(train_set_y_orig))) #Reshape to remove rank one array\n",
    "test_set_y_orig = test_set_y_orig.reshape((1, len(test_set_y_orig)))\n",
    "\n",
    "print(\"Train dataset shape = \" + str(train_set_x_orig.shape))\n",
    "print(\"Test dataset shape = \" + str(test_set_x_orig.shape))\n",
    "\n",
    "print(\"Train dataset Labels shape = \" + str(train_set_y_orig.shape))\n",
    "print(\"Test dataset Labels shape = \" + str(test_set_y_orig.shape))"
   ]
  },
  {
   "cell_type": "code",
   "execution_count": null,
   "metadata": {},
   "outputs": [],
   "source": [
    "#Transposing and Flattening\n",
    "x_train_flatten = train_set_x_orig.reshape(train_set_x_orig.shape[0], -1).T\n",
    "x_test_flatten = test_set_x_orig.reshape(test_set_x_orig.shape[0], -1).T\n",
    "#Normalizing the dataset\n",
    "x_train = np.array(x_train_flatten/255)\n",
    "x_test = np.array(x_test_flatten/255)\n",
    "\n",
    "#Converting labels to one hot matrices\n",
    "y_train = np.eye(10)[train_set_y_orig.reshape(-1)].T #Here 10 is the number of classes or labels\n",
    "y_test = np.eye(10)[test_set_y_orig.reshape(-1)].T\n",
    "\n",
    "\n",
    "print(\"Train dataset shape = \" + str(x_train.shape))\n",
    "print(\"Test dataset shape = \" + str(x_test.shape))\n",
    "\n",
    "print(\"Train dataset Labels shape = \" + str(y_train.shape))\n",
    "print(\"Test dataset Labels shape = \" + str(y_test.shape))"
   ]
  },
  {
   "cell_type": "code",
   "execution_count": null,
   "metadata": {
    "collapsed": true
   },
   "outputs": [],
   "source": [
    "n_x = x_train.shape[0]\n",
    "n_y = y_train.shape[0]\n",
    "#Declaring Placeholders\n",
    "X = tf.placeholder(tf.float32, shape=[n_x, None], name='X')\n",
    "Y = tf.placeholder(tf.float32, shape=[n_y, None], name='Y')\n",
    "# Probability of keeping a node during dropout = 1.0 at test time (no dropout) and 0.75 at training time\n",
    "pkeep = tf.placeholder(tf.float32, name='pkeep')\n",
    "lr = tf.placeholder(tf.float32, name='lr')"
   ]
  },
  {
   "cell_type": "code",
   "execution_count": null,
   "metadata": {
    "collapsed": true
   },
   "outputs": [],
   "source": [
    "#Variable Initialization\n",
    "W1 = tf.get_variable(\"W1\", [200, 784], initializer=tf.contrib.layers.xavier_initializer(seed=1)) #Here 200 is the number of neurons or nodes in the NN layer\n",
    "b1 = tf.get_variable(\"b1\", [200, 1], initializer=tf.zeros_initializer())\n",
    "W2 = tf.get_variable(\"W2\", [100, 200], initializer=tf.contrib.layers.xavier_initializer(seed=1)) #Here 100 is the number of neurons or nodes in the NN layer\n",
    "b2 = tf.get_variable(\"b2\", [100, 1], initializer=tf.zeros_initializer())\n",
    "W3 = tf.get_variable(\"W3\", [60, 100], initializer=tf.contrib.layers.xavier_initializer(seed=1)) #Here 60 is the number of neurons or nodes in the NN layer\n",
    "b3 = tf.get_variable(\"b3\", [60, 1], initializer=tf.zeros_initializer())\n",
    "W4 = tf.get_variable(\"W4\", [30, 60], initializer=tf.contrib.layers.xavier_initializer(seed=1)) #Here 30 is the number of neurons or nodes in the NN layer\n",
    "b4 = tf.get_variable(\"b4\", [30, 1], initializer=tf.zeros_initializer())\n",
    "W5 = tf.get_variable(\"W5\", [10, 30], initializer=tf.contrib.layers.xavier_initializer(seed=1)) #Here 10 is the number of neurons or nodes in the NN layer\n",
    "b5 = tf.get_variable(\"b5\", [10, 1], initializer=tf.zeros_initializer())\n",
    "#Define a dictionary with parameters\n",
    "parameters = {\"W1\": W1,\n",
    "              \"b1\": b1,\n",
    "              \"W2\": W2,\n",
    "              \"b2\": b2,\n",
    "              \"W3\": W3,\n",
    "              \"b3\": b3,\n",
    "              \"W4\": W4,\n",
    "              \"b4\": b4,\n",
    "              \"W5\": W5,\n",
    "              \"b5\": b5}"
   ]
  },
  {
   "cell_type": "code",
   "execution_count": null,
   "metadata": {},
   "outputs": [],
   "source": [
    "#Model Creation and Forward Propogation\n",
    "Z1 = tf.add(tf.matmul(W1, X), b1)\n",
    "A1 = tf.nn.relu(Z1)\n",
    "A1d = tf.nn.dropout(A1, pkeep)\n",
    "Z2 = tf.add(tf.matmul(W2, A1d), b2)\n",
    "A2 = tf.nn.relu(Z2)\n",
    "A2d = tf.nn.dropout(A2, pkeep)\n",
    "Z3 = tf.add(tf.matmul(W3, A2d), b3)\n",
    "A3 = tf.nn.relu(Z3)\n",
    "A3d = tf.nn.dropout(A3, pkeep)\n",
    "Z4 = tf.add(tf.matmul(W4, A3d), b4)\n",
    "A4 = tf.nn.relu(Z4)\n",
    "A4d = tf.nn.dropout(A4, pkeep)\n",
    "Z5 = tf.add(tf.matmul(W5, A4d), b5)\n",
    "\n",
    "print(\"Z5 =\", str(Z5))"
   ]
  },
  {
   "cell_type": "code",
   "execution_count": null,
   "metadata": {},
   "outputs": [],
   "source": [
    "#Cost Computation\n",
    "logits = tf.transpose(Z5)\n",
    "labels = tf.transpose(Y)\n",
    "print (\"Shape Z5 Transpose =\", str(logits))\n",
    "print (\"Shape Y Transpose =\", str(labels))\n",
    "cost = tf.reduce_mean(tf.nn.softmax_cross_entropy_with_logits(logits=logits, labels=labels))\n",
    "print(\"Cost =\", str(cost))"
   ]
  },
  {
   "cell_type": "code",
   "execution_count": null,
   "metadata": {
    "collapsed": true
   },
   "outputs": [],
   "source": [
    "def random_mini_batches(X, Y, mini_batch_size = 64, seed = 0):\n",
    "    \"\"\"\n",
    "    Creates a list of random minibatches from (X, Y)\n",
    "    \n",
    "    Arguments:\n",
    "    X -- input data, of shape (input size, number of examples)\n",
    "    Y -- true \"label\" vector (containing 0 if cat, 1 if non-cat), of shape (1, number of examples)\n",
    "    mini_batch_size - size of the mini-batches, integer\n",
    "    seed -- this is only for the purpose of grading, so that you're \"random minibatches are the same as ours.\n",
    "    \n",
    "    Returns:\n",
    "    mini_batches -- list of synchronous (mini_batch_X, mini_batch_Y)\n",
    "    \"\"\"\n",
    "    \n",
    "    m = X.shape[1]                  # number of training examples\n",
    "    mini_batches = []\n",
    "    np.random.seed(seed)\n",
    "    \n",
    "    # Step 1: Shuffle (X, Y)\n",
    "    permutation = list(np.random.permutation(m))\n",
    "    shuffled_X = X[:, permutation]\n",
    "    shuffled_Y = Y[:, permutation].reshape((Y.shape[0],m))\n",
    "    \n",
    "    # Step 2: Partition (shuffled_X, shuffled_Y). Minus the end case.\n",
    "    num_complete_minibatches = math.floor(m/mini_batch_size) # number of mini batches of size mini_batch_size in your partitionning\n",
    "    for k in range(0, num_complete_minibatches):\n",
    "        mini_batch_X = shuffled_X[:, k * mini_batch_size : k * mini_batch_size + mini_batch_size]\n",
    "        mini_batch_Y = shuffled_Y[:, k * mini_batch_size : k * mini_batch_size + mini_batch_size]\n",
    "        mini_batch = (mini_batch_X, mini_batch_Y)\n",
    "        mini_batches.append(mini_batch)\n",
    "        \n",
    "    # Handling the end case (last mini-batch < mini_batch_size)\n",
    "    if m % mini_batch_size != 0:\n",
    "        mini_batch_X = shuffled_X[:, num_complete_minibatches * mini_batch_size : m]\n",
    "        mini_batch_Y = shuffled_Y[:, num_complete_minibatches * mini_batch_size : m]\n",
    "        mini_batch = (mini_batch_X, mini_batch_Y)\n",
    "        mini_batches.append(mini_batch)\n",
    "        \n",
    "    return mini_batches"
   ]
  },
  {
   "cell_type": "code",
   "execution_count": null,
   "metadata": {
    "collapsed": true
   },
   "outputs": [],
   "source": [
    "minibatch_size = 128\n",
    "num_minibatches = int(60000 / minibatch_size) # number of minibatches of size minibatch_size in the train set\n",
    "seed = 0\n",
    "minibatches = random_mini_batches(x_train, y_train, mini_batch_size = minibatch_size, seed = seed)"
   ]
  },
  {
   "cell_type": "code",
   "execution_count": null,
   "metadata": {},
   "outputs": [],
   "source": [
    "optimizer = tf.train.AdamOptimizer(lr).minimize(cost) #Changed Learning Rate\n",
    "init = tf.global_variables_initializer()\n",
    "with tf.Session() as sess:\n",
    "    sess.run(init)\n",
    "    for epoch in range(101):\n",
    "        #Learning Rate Decaly\n",
    "        max_learning_rate = 0.003\n",
    "        min_learning_rate = 0.0001\n",
    "        decay_speed = 2000.0 # 0.003-0.0001-2000=>0.9826 done in 5000 iterations\n",
    "        learning_rate = min_learning_rate + (max_learning_rate - min_learning_rate) * math.exp(-epoch/decay_speed)\n",
    "        for minibatch in minibatches:\n",
    "            epoch_cost = 0.                       # Defines a cost related to an epoch\n",
    "            # Select a minibatch\n",
    "            (minibatch_X, minibatch_Y) = minibatch\n",
    "            _ , minibatch_cost = sess.run([optimizer, cost], feed_dict={X: minibatch_X, Y: minibatch_Y, pkeep: 0.75, lr: learning_rate}) \n",
    "            epoch_cost += minibatch_cost / num_minibatches\n",
    "        if epoch % 10 == 0:\n",
    "            print (\"Cost after epoch %i: %f\" % (epoch, epoch_cost))\n",
    "    # lets save the parameters in a variable\n",
    "    parameters = sess.run(parameters)\n",
    "    print (\"Parameters have been trained!\")\n",
    "    #Identify Correct Predictions\n",
    "    correct_prediction = tf.equal(tf.argmax(Z5), tf.argmax(Y))\n",
    "    #Calculate Accuracy\n",
    "    accuracy = tf.reduce_mean(tf.cast(correct_prediction, \"float\"))\n",
    "    print (\"Train Accuracy:\", accuracy.eval({X: x_train, Y: y_train, pkeep: 0.75}))\n",
    "    print (\"Test Accuracy:\", accuracy.eval({X: x_test, Y: y_test, pkeep: 1.0}))"
   ]
  },
  {
   "cell_type": "code",
   "execution_count": null,
   "metadata": {},
   "outputs": [],
   "source": [
    "#Prediction on Own Image\n",
    "\n",
    "import scipy\n",
    "from PIL import Image, ImageFilter\n",
    "from scipy import ndimage\n",
    "from matplotlib import pyplot as plt\n",
    "\n",
    "#Image Processing to fit the algorithm\n",
    "my_image_logic = [imageprepare('images/handwriting.png')]\n",
    "my_image = np.transpose(my_image_logic)\n",
    "newArr=[[0 for d in range(28)] for y in range(28)]\n",
    "k = 0\n",
    "for i in range(28):\n",
    "    for j in range(28):\n",
    "        newArr[i][j]=my_image_logic[0][k]\n",
    "        k=k+1\n",
    "plt.imshow(newArr, interpolation='nearest')\n",
    "plt.show()\n",
    "\n",
    "W1 = tf.convert_to_tensor(parameters[\"W1\"])\n",
    "b1 = tf.convert_to_tensor(parameters[\"b1\"])\n",
    "W2 = tf.convert_to_tensor(parameters[\"W2\"])\n",
    "b2 = tf.convert_to_tensor(parameters[\"b2\"])\n",
    "W3 = tf.convert_to_tensor(parameters[\"W3\"])\n",
    "b3 = tf.convert_to_tensor(parameters[\"b3\"])\n",
    "W4 = tf.convert_to_tensor(parameters[\"W4\"])\n",
    "b4 = tf.convert_to_tensor(parameters[\"b4\"])\n",
    "W5 = tf.convert_to_tensor(parameters[\"W5\"])\n",
    "b5 = tf.convert_to_tensor(parameters[\"b5\"])\n",
    "    \n",
    "params = {\"W1\": W1,\n",
    "          \"b1\": b1,\n",
    "          \"W2\": W2,\n",
    "          \"b2\": b2,\n",
    "          \"W3\": W3,\n",
    "          \"b3\": b3,\n",
    "          \"W4\": W4,\n",
    "          \"b4\": b4,\n",
    "          \"W5\": W5,\n",
    "          \"b5\": b5}\n",
    "\n",
    "x = tf.placeholder(\"float\", [784, 1])\n",
    "\n",
    "z5 = forward_propagation_for_predict(x, params)\n",
    "\n",
    "p = tf.argmax(z5)\n",
    "\n",
    "sess = tf.Session()\n",
    "my_image_prediction = sess.run(p, feed_dict = {x: my_image})\n",
    "\n",
    "print(\"Your algorithm predicts: y = \" + str(np.squeeze(my_image_prediction)))"
   ]
  },
  {
   "cell_type": "code",
   "execution_count": null,
   "metadata": {
    "collapsed": true
   },
   "outputs": [],
   "source": []
  }
 ],
 "metadata": {
  "kernelspec": {
   "display_name": "Python 3",
   "language": "python",
   "name": "python3"
  },
  "language_info": {
   "codemirror_mode": {
    "name": "ipython",
    "version": 3
   },
   "file_extension": ".py",
   "mimetype": "text/x-python",
   "name": "python",
   "nbconvert_exporter": "python",
   "pygments_lexer": "ipython3",
   "version": "3.6.3"
  }
 },
 "nbformat": 4,
 "nbformat_minor": 2
}
