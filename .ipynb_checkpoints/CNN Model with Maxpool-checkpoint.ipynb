{
 "cells": [
  {
   "cell_type": "code",
   "execution_count": null,
   "metadata": {},
   "outputs": [],
   "source": [
    "import tensorflow as tf\n",
    "import math\n",
    "from tensorflow.examples.tutorials.mnist import input_data as mnist_data\n",
    "import numpy as np\n",
    "print(\"Tensorflow version \" + tf.__version__)\n",
    "tf.set_random_seed(0)"
   ]
  },
  {
   "cell_type": "code",
   "execution_count": null,
   "metadata": {
    "collapsed": true
   },
   "outputs": [],
   "source": [
    "def forward_propagation_for_predict(X, parameters):\n",
    "    # Retrieve the parameters from the dictionary \"parameters\" \n",
    "    W1 = parameters['W1']\n",
    "    W2 = parameters['W2']\n",
    "    W3 = parameters['W3']\n",
    "    W4 = parameters['W4']\n",
    "    W5 = parameters['W5']\n",
    "    B1 = parameters['B1']\n",
    "    B2 = parameters['B2']\n",
    "    B3 = parameters['B3']\n",
    "    B4 = parameters['B4']\n",
    "    B5 = parameters['B5']\n",
    "    \n",
    "    Z1 = tf.nn.conv2d(X, W1, strides = [1,1,1,1], padding = \"SAME\")\n",
    "    A1 = tf.nn.relu(Z1 + B1)\n",
    "    P1 = tf.nn.max_pool(A1, ksize = [1,2,2,1], strides = [1,1,1,1], padding = 'SAME')\n",
    "    Z2 = tf.nn.conv2d(P1, W2, strides = [1,1,1,1], padding = \"SAME\")\n",
    "    A2 = tf.nn.relu(Z2 + B2)\n",
    "    P2 = tf.nn.max_pool(A2, ksize = [1,2,2,1], strides = [1,1,1,1], padding = 'SAME')\n",
    "    Z3 = tf.nn.conv2d(P2, W3, strides = [1,1,1,1], padding = \"SAME\")\n",
    "    A3 = tf.nn.relu(Z3 + B3)\n",
    "    P3 = tf.nn.max_pool(A3, ksize = [1,2,2,1], strides = [1,1,1,1], padding = 'SAME')\n",
    "    P3 = tf.contrib.layers.flatten(P3)\n",
    "\n",
    "    Z4 = tf.contrib.layers.fully_connected(P3, num_outputs = 10, activation_fn=tf.nn.softmax)\n",
    "    return Z4"
   ]
  },
  {
   "cell_type": "code",
   "execution_count": null,
   "metadata": {
    "collapsed": true
   },
   "outputs": [],
   "source": [
    "def imageprepare(argv):\n",
    "    \"\"\"\n",
    "    This function returns the pixel values.\n",
    "    The imput is a png file location.\n",
    "    \"\"\"\n",
    "    im = Image.open(argv).convert('L')\n",
    "    width = float(im.size[0])\n",
    "    height = float(im.size[1])\n",
    "    newImage = Image.new('L', (28, 28), (255))  # creates white canvas of 28x28 pixels\n",
    "\n",
    "    if width > height:  # check which dimension is bigger\n",
    "        # Width is bigger. Width becomes 20 pixels.\n",
    "        nheight = int(round((20.0 / width * height), 0))  # resize height according to ratio width\n",
    "        if (nheight == 0):  # rare case but minimum is 1 pixel\n",
    "            nheight = 1\n",
    "            # resize and sharpen\n",
    "        img = im.resize((20, nheight), Image.ANTIALIAS).filter(ImageFilter.SHARPEN)\n",
    "        wtop = int(round(((28 - nheight) / 2), 0))  # calculate horizontal position\n",
    "        newImage.paste(img, (4, wtop))  # paste resized image on white canvas\n",
    "    else:\n",
    "        # Height is bigger. Heigth becomes 20 pixels.\n",
    "        nwidth = int(round((20.0 / height * width), 0))  # resize width according to ratio height\n",
    "        if (nwidth == 0):  # rare case but minimum is 1 pixel\n",
    "            nwidth = 1\n",
    "            # resize and sharpen\n",
    "        img = im.resize((nwidth, 20), Image.ANTIALIAS).filter(ImageFilter.SHARPEN)\n",
    "        wleft = int(round(((28 - nwidth) / 2), 0))  # caculate vertical pozition\n",
    "        newImage.paste(img, (wleft, 4))  # paste resized image on white canvas\n",
    "\n",
    "    # newImage.save(\"sample.png\n",
    "\n",
    "    tv = list(newImage.getdata())  # get pixel values\n",
    "\n",
    "    # normalize pixels to 0 and 1. 0 is pure white, 1 is pure black.\n",
    "    tva = [(255 - x) * 1.0 / 255.0 for x in tv]\n",
    "    return tva"
   ]
  },
  {
   "cell_type": "code",
   "execution_count": null,
   "metadata": {},
   "outputs": [],
   "source": [
    "mnist = mnist_data.read_data_sets(\"data\", one_hot=True, reshape=False, validation_size=0)"
   ]
  },
  {
   "cell_type": "code",
   "execution_count": null,
   "metadata": {},
   "outputs": [],
   "source": [
    "x_train = np.array(mnist.train.images)\n",
    "x_test = np.array(mnist.test.images)\n",
    "\n",
    "y_train = np.array(mnist.train.labels) \n",
    "y_test = np.array(mnist.test.labels)"
   ]
  },
  {
   "cell_type": "code",
   "execution_count": null,
   "metadata": {
    "collapsed": true
   },
   "outputs": [],
   "source": [
    "X = tf.placeholder(tf.float32, [None, 28, 28, 1])\n",
    "# correct answers will go here\n",
    "Y_ = tf.placeholder(tf.float32, [None, 10])\n",
    "# variable learning rate\n",
    "lr = tf.placeholder(tf.float32)"
   ]
  },
  {
   "cell_type": "code",
   "execution_count": null,
   "metadata": {
    "collapsed": true
   },
   "outputs": [],
   "source": [
    "K = 4  # first convolutional layer output depth\n",
    "L = 8  # second convolutional layer output depth\n",
    "M = 12  # third convolutional layer\n",
    "N = 200  # fully connected layer"
   ]
  },
  {
   "cell_type": "code",
   "execution_count": null,
   "metadata": {
    "collapsed": true
   },
   "outputs": [],
   "source": [
    "#Using Xavier Initializatiion\n",
    "W1 = tf.get_variable(\"W1\", [5, 5, 1, K], initializer=tf.contrib.layers.xavier_initializer(seed=1)) # 5x5 patch, 1 input channel, 4 output channels\n",
    "B1 = tf.get_variable(\"B1\", [K], initializer=tf.zeros_initializer())\n",
    "W2 = tf.get_variable(\"W2\", [5, 5, K, L], initializer=tf.contrib.layers.xavier_initializer(seed=10))\n",
    "B2 = tf.get_variable(\"B2\", [L], initializer=tf.zeros_initializer())\n",
    "W3 = tf.get_variable(\"W3\", [4, 4, L, M], initializer=tf.contrib.layers.xavier_initializer(seed=0))\n",
    "B3 = tf.get_variable(\"B3\", [M], initializer=tf.zeros_initializer())\n",
    "\n",
    "W4 = tf.get_variable(\"W4\", [7*7*M, N], initializer=tf.contrib.layers.xavier_initializer(seed=11))\n",
    "B4 = tf.get_variable(\"B4\", [N], initializer=tf.zeros_initializer())\n",
    "W5 = tf.get_variable(\"W5\", [N, 10], initializer=tf.contrib.layers.xavier_initializer())\n",
    "B5 = tf.get_variable(\"B5\", [10], initializer=tf.zeros_initializer())\n",
    "\n",
    "parameters = {\"W1\": W1,\n",
    "              \"B1\": B1,\n",
    "              \"W2\": W2,\n",
    "              \"B2\": B2,\n",
    "              \"W3\": W3,\n",
    "              \"B3\": B3,\n",
    "              \"W4\": W4,\n",
    "              \"B4\": B4,\n",
    "              \"W5\": W5,\n",
    "              \"B5\": B5}"
   ]
  },
  {
   "cell_type": "code",
   "execution_count": null,
   "metadata": {},
   "outputs": [],
   "source": [
    "#Model Creation and Forward Propogation\n",
    "Z1 = tf.nn.conv2d(X, W1, strides = [1,1,1,1], padding = \"SAME\")\n",
    "A1 = tf.nn.relu(Z1 + B1)\n",
    "P1 = tf.nn.max_pool(A1, ksize = [1,2,2,1], strides = [1,1,1,1], padding = 'SAME')\n",
    "Z2 = tf.nn.conv2d(P1, W2, strides = [1,1,1,1], padding = \"SAME\")\n",
    "A2 = tf.nn.relu(Z2 + B2)\n",
    "P2 = tf.nn.max_pool(A2, ksize = [1,2,2,1], strides = [1,1,1,1], padding = 'SAME')\n",
    "Z3 = tf.nn.conv2d(P2, W3, strides = [1,1,1,1], padding = \"SAME\")\n",
    "A3 = tf.nn.relu(Z3 + B3)\n",
    "P3 = tf.nn.max_pool(A3, ksize = [1,2,2,1], strides = [1,1,1,1], padding = 'SAME')\n",
    "P3 = tf.contrib.layers.flatten(P3)\n",
    "Z4 = tf.contrib.layers.fully_connected(P3, num_outputs = 10, activation_fn=None)\n",
    "\n",
    "print(\"Z4 =\", str(Z4))"
   ]
  },
  {
   "cell_type": "code",
   "execution_count": null,
   "metadata": {},
   "outputs": [],
   "source": [
    "#Cost Computation\n",
    "logits = Z4\n",
    "labels = Y_\n",
    "print (\"Shape Z4 =\", str(logits)) #Shape should be (?, # of classes)\n",
    "print (\"Shape Y =\", str(labels))\n",
    "cost = tf.reduce_mean(tf.nn.softmax_cross_entropy_with_logits(logits=logits, labels=labels))\n",
    "print(\"Cost =\", str(cost))"
   ]
  },
  {
   "cell_type": "code",
   "execution_count": null,
   "metadata": {
    "collapsed": true
   },
   "outputs": [],
   "source": [
    "def random_mini_batches(X, Y, mini_batch_size = 64, seed = 0):\n",
    "    m = X.shape[0]                  # number of training examples\n",
    "    mini_batches = []\n",
    "    np.random.seed(seed)\n",
    "    \n",
    "    # Step 1: Shuffle (X, Y)\n",
    "    permutation = list(np.random.permutation(m))\n",
    "    shuffled_X = X[permutation,:,:,:]\n",
    "    shuffled_Y = Y[permutation, :]\n",
    "    \n",
    "    # Step 2: Partition (shuffled_X, shuffled_Y). Minus the end case.\n",
    "    num_complete_minibatches = math.floor(m/mini_batch_size) # number of mini batches of size mini_batch_size in your partitionning\n",
    "    for k in range(0, num_complete_minibatches):\n",
    "        mini_batch_X = shuffled_X[k * mini_batch_size : k * mini_batch_size + mini_batch_size,:,:,:]\n",
    "        mini_batch_Y = shuffled_Y[k * mini_batch_size : k * mini_batch_size + mini_batch_size,:]\n",
    "        mini_batch = (mini_batch_X, mini_batch_Y)\n",
    "        mini_batches.append(mini_batch)\n",
    "        \n",
    "    # Handling the end case (last mini-batch < mini_batch_size)\n",
    "    if m % mini_batch_size != 0:\n",
    "        mini_batch_X = shuffled_X[num_complete_minibatches * mini_batch_size : m,:,:,:]\n",
    "        mini_batch_Y = shuffled_Y[num_complete_minibatches * mini_batch_size : m,:]\n",
    "        mini_batch = (mini_batch_X, mini_batch_Y)\n",
    "        mini_batches.append(mini_batch)\n",
    "        \n",
    "    return mini_batches"
   ]
  },
  {
   "cell_type": "code",
   "execution_count": null,
   "metadata": {
    "collapsed": true
   },
   "outputs": [],
   "source": [
    "minibatch_size = 100\n",
    "num_minibatches = int(60000 / minibatch_size) # number of minibatches of size minibatch_size in the train set\n",
    "seed = 0\n",
    "minibatches = random_mini_batches(x_train, y_train, mini_batch_size = minibatch_size, seed = seed)"
   ]
  },
  {
   "cell_type": "code",
   "execution_count": null,
   "metadata": {},
   "outputs": [],
   "source": [
    "optimizer = tf.train.AdamOptimizer(learning_rate=0.001).minimize(cost) #Changed Learning Rate\n",
    "init = tf.global_variables_initializer()\n",
    "with tf.Session() as sess:\n",
    "    sess.run(init)\n",
    "    for epoch in range(10):\n",
    "        for minibatch in minibatches:\n",
    "            epoch_cost = 0.                       # Defines a cost related to an epoch\n",
    "            # Select a minibatch\n",
    "            (minibatch_X, minibatch_Y) = minibatch\n",
    "            _ , minibatch_cost = sess.run([optimizer, cost], feed_dict={X: minibatch_X, Y_: minibatch_Y}) \n",
    "            epoch_cost += minibatch_cost / num_minibatches\n",
    "        if epoch % 2 == 0:\n",
    "            print (\"Cost after epoch %i: %f\" % (epoch, epoch_cost))\n",
    "    # lets save the parameters in a variable\n",
    "    parameters = sess.run(parameters)\n",
    "    print (\"Parameters have been trained!\")\n",
    "    #Identify Correct Predictions\n",
    "    correct_prediction = tf.equal(tf.argmax(Z4, 1), tf.argmax(Y_, 1))\n",
    "    #Calculate Accuracy\n",
    "    accuracy = tf.reduce_mean(tf.cast(correct_prediction, \"float\"))\n",
    "    #print (\"Train Accuracy:\", accuracy.eval({X: x_train, Y_: y_train}))\n",
    "    print (\"Test Accuracy:\", accuracy.eval({X: x_test, Y_: y_test}))"
   ]
  },
  {
   "cell_type": "code",
   "execution_count": null,
   "metadata": {},
   "outputs": [],
   "source": [
    "print(str(parameters))"
   ]
  },
  {
   "cell_type": "code",
   "execution_count": null,
   "metadata": {},
   "outputs": [],
   "source": [
    "#Prediction on Own Image\n",
    "\n",
    "import scipy\n",
    "from PIL import Image, ImageFilter\n",
    "from scipy import ndimage\n",
    "from matplotlib import pyplot as plt\n",
    "\n",
    "#Image Processing to fit the algorithm\n",
    "my_image_logic = [imageprepare('images/handwriting.png')]\n",
    "my_image = np.transpose(my_image_logic)\n",
    "newArr=[[0 for d in range(28)] for y in range(28)]\n",
    "k = 0\n",
    "for i in range(28):\n",
    "    for j in range(28):\n",
    "        newArr[i][j]=my_image_logic[0][k]\n",
    "        k=k+1\n",
    "plt.imshow(newArr, interpolation='nearest')\n",
    "plt.show()\n",
    "i = np.array(newArr)\n",
    "i = i.reshape(1, 28, 28, 1)\n",
    "W1 = tf.convert_to_tensor(parameters[\"W1\"])\n",
    "W2 = tf.convert_to_tensor(parameters[\"W2\"])\n",
    "W3 = tf.convert_to_tensor(parameters[\"W3\"])\n",
    "W4 = tf.convert_to_tensor(parameters[\"W4\"])\n",
    "W5 = tf.convert_to_tensor(parameters[\"W5\"])\n",
    "B1 = tf.convert_to_tensor(parameters[\"B1\"])\n",
    "B2 = tf.convert_to_tensor(parameters[\"B2\"])\n",
    "B3 = tf.convert_to_tensor(parameters[\"B3\"])\n",
    "B4 = tf.convert_to_tensor(parameters[\"B4\"])\n",
    "B5 = tf.convert_to_tensor(parameters[\"B5\"])\n",
    "\n",
    "params = {\"W1\": W1,\n",
    "          \"B1\": B1,\n",
    "          \"W2\": W2,\n",
    "          \"B2\": B2,\n",
    "          \"W3\": W3,\n",
    "          \"B3\": B3,\n",
    "          \"W4\": W4,\n",
    "          \"B4\": B4,\n",
    "          \"W5\": W5,\n",
    "          \"B5\": B5}\n",
    "\n",
    "    \n",
    "x = tf.placeholder(tf.float32, [1, 28, 28, 1])\n",
    "\n",
    "z4 = forward_propagation_for_predict(x, params)\n",
    "p = tf.argmax(z4, 1)\n",
    "sess = tf.Session()\n",
    "my_image_prediction = sess.run(p, feed_dict = {x: i})\n",
    "\n",
    "print(\"Your algorithm predicts: y = \" + str(np.squeeze(my_image_prediction)))\n",
    "\n",
    "\n"
   ]
  },
  {
   "cell_type": "code",
   "execution_count": null,
   "metadata": {},
   "outputs": [],
   "source": [
    "print (str(parameters[\"\"]))"
   ]
  },
  {
   "cell_type": "code",
   "execution_count": null,
   "metadata": {
    "collapsed": true
   },
   "outputs": [],
   "source": []
  }
 ],
 "metadata": {
  "kernelspec": {
   "display_name": "Python 3",
   "language": "python",
   "name": "python3"
  },
  "language_info": {
   "codemirror_mode": {
    "name": "ipython",
    "version": 3
   },
   "file_extension": ".py",
   "mimetype": "text/x-python",
   "name": "python",
   "nbconvert_exporter": "python",
   "pygments_lexer": "ipython3",
   "version": "3.6.3"
  }
 },
 "nbformat": 4,
 "nbformat_minor": 2
}
