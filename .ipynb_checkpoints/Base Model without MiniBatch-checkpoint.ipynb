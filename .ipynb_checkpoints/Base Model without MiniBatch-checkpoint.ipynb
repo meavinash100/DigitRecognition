{
 "cells": [
  {
   "cell_type": "code",
   "execution_count": 1,
   "metadata": {},
   "outputs": [],
   "source": [
    "import math\n",
    "import random\n",
    "import tensorflow as tf\n",
    "import numpy as np\n",
    "from mnist import MNIST"
   ]
  },
  {
   "cell_type": "code",
   "execution_count": 2,
   "metadata": {
    "collapsed": true
   },
   "outputs": [],
   "source": [
    "def forward_propagation_for_predict(X, parameters)\n",
    "    # Retrieve the parameters from the dictionary \"parameters\" \n",
    "    W1 = parameters['W1']\n",
    "    b1 = parameters['b1']\n",
    "    W2 = parameters['W2']\n",
    "    b2 = parameters['b2']\n",
    "    W3 = parameters['W3']\n",
    "    b3 = parameters['b3'] \n",
    "                                                           # Numpy Equivalents:\n",
    "    Z1 = tf.add(tf.matmul(W1, X), b1)                      # Z1 = np.dot(W1, X) + b1\n",
    "    A1 = tf.nn.relu(Z1)                                    # A1 = relu(Z1)\n",
    "    Z2 = tf.add(tf.matmul(W2, A1), b2)                     # Z2 = np.dot(W2, a1) + b2\n",
    "    A2 = tf.nn.relu(Z2)                                    # A2 = relu(Z2)\n",
    "    Z3 = tf.add(tf.matmul(W3, A2), b3)                     # Z3 = np.dot(W3,Z2) + b3\n",
    "    \n",
    "    return Z3"
   ]
  },
  {
   "cell_type": "code",
   "execution_count": 3,
   "metadata": {
    "collapsed": true
   },
   "outputs": [],
   "source": [
    "def imageprepare(argv):\n",
    "    \"\"\"\n",
    "    This function returns the pixel values.\n",
    "    The imput is a png file location.\n",
    "    \"\"\"\n",
    "    im = Image.open(argv).convert('L')\n",
    "    width = float(im.size[0])\n",
    "    height = float(im.size[1])\n",
    "    newImage = Image.new('L', (28, 28), (255))  # creates white canvas of 28x28 pixels\n",
    "\n",
    "    if width > height:  # check which dimension is bigger\n",
    "        # Width is bigger. Width becomes 20 pixels.\n",
    "        nheight = int(round((20.0 / width * height), 0))  # resize height according to ratio width\n",
    "        if (nheight == 0):  # rare case but minimum is 1 pixel\n",
    "            nheight = 1\n",
    "            # resize and sharpen\n",
    "        img = im.resize((20, nheight), Image.ANTIALIAS).filter(ImageFilter.SHARPEN)\n",
    "        wtop = int(round(((28 - nheight) / 2), 0))  # calculate horizontal position\n",
    "        newImage.paste(img, (4, wtop))  # paste resized image on white canvas\n",
    "    else:\n",
    "        # Height is bigger. Heigth becomes 20 pixels.\n",
    "        nwidth = int(round((20.0 / height * width), 0))  # resize width according to ratio height\n",
    "        if (nwidth == 0):  # rare case but minimum is 1 pixel\n",
    "            nwidth = 1\n",
    "            # resize and sharpen\n",
    "        img = im.resize((nwidth, 20), Image.ANTIALIAS).filter(ImageFilter.SHARPEN)\n",
    "        wleft = int(round(((28 - nwidth) / 2), 0))  # caculate vertical pozition\n",
    "        newImage.paste(img, (wleft, 4))  # paste resized image on white canvas\n",
    "\n",
    "    # newImage.save(\"sample.png\n",
    "\n",
    "    tv = list(newImage.getdata())  # get pixel values\n",
    "\n",
    "    # normalize pixels to 0 and 1. 0 is pure white, 1 is pure black.\n",
    "    tva = [(255 - x) * 1.0 / 255.0 for x in tv]\n",
    "    return tva"
   ]
  },
  {
   "cell_type": "code",
   "execution_count": 4,
   "metadata": {},
   "outputs": [
    {
     "name": "stdout",
     "output_type": "stream",
     "text": [
      "\n",
      "............................\n",
      "............................\n",
      "............................\n",
      "............................\n",
      "............................\n",
      "............................\n",
      "........................@...\n",
      "...........@@@........@@....\n",
      "...........@@........@@@....\n",
      "..........@@........@@......\n",
      ".........@@.........@.......\n",
      ".........@@........@@.......\n",
      ".........@........@@........\n",
      ".........@.......@@.........\n",
      ".........@@......@..........\n",
      "..........@@....@@..........\n",
      "..........@@@..@@...........\n",
      "............@@@@@@..........\n",
      ".............@@@@@@.........\n",
      ".............@@.............\n",
      "............@@@.............\n",
      "............@@..............\n",
      "............@...............\n",
      "...........@@...............\n",
      "..........@@@...............\n",
      "..........@@................\n",
      "............................\n",
      "............................\n"
     ]
    }
   ],
   "source": [
    "#Loading Dataset\n",
    "mndata = MNIST('C:\\\\Users\\\\apundhir\\\\Desktop\\\\DigitRecon\\\\Datasets')\n",
    "\n",
    "images_train, labels_train = mndata.load_training()\n",
    "images_test, labels_test = mndata.load_testing()\n",
    "\n",
    "index = random.randrange(0, len(images_train))  # choose an index\n",
    "print(mndata.display(images_train[index]))"
   ]
  },
  {
   "cell_type": "code",
   "execution_count": 5,
   "metadata": {},
   "outputs": [
    {
     "name": "stdout",
     "output_type": "stream",
     "text": [
      "Train dataset shape = (60000, 784)\n",
      "Test dataset shape = (10000, 784)\n",
      "Train dataset Labels shape = (1, 60000)\n",
      "Test dataset Labels shape = (1, 10000)\n"
     ]
    }
   ],
   "source": [
    "train_set_x_orig = np.array(images_train[:]) # train set features\n",
    "train_set_y_orig = np.array(labels_train[:]) # train set labels\n",
    "test_set_x_orig = np.array(images_test[:]) # test set features\n",
    "test_set_y_orig = np.array(labels_test[:]) # test set labels\n",
    "\n",
    "train_set_y_orig = train_set_y_orig.reshape((1, len(train_set_y_orig))) #Reshape to remove rank one array\n",
    "test_set_y_orig = test_set_y_orig.reshape((1, len(test_set_y_orig)))\n",
    "\n",
    "print(\"Train dataset shape = \" + str(train_set_x_orig.shape))\n",
    "print(\"Test dataset shape = \" + str(test_set_x_orig.shape))\n",
    "\n",
    "print(\"Train dataset Labels shape = \" + str(train_set_y_orig.shape))\n",
    "print(\"Test dataset Labels shape = \" + str(test_set_y_orig.shape))"
   ]
  },
  {
   "cell_type": "code",
   "execution_count": 6,
   "metadata": {},
   "outputs": [
    {
     "name": "stdout",
     "output_type": "stream",
     "text": [
      "Train dataset shape = (784, 60000)\n",
      "Test dataset shape = (784, 10000)\n",
      "Train dataset Labels shape = (10, 60000)\n",
      "Test dataset Labels shape = (10, 10000)\n"
     ]
    }
   ],
   "source": [
    "#Transposing and Flattening\n",
    "x_train_flatten = train_set_x_orig.reshape(train_set_x_orig.shape[0], -1).T\n",
    "x_test_flatten = test_set_x_orig.reshape(test_set_x_orig.shape[0], -1).T\n",
    "#Normalizing the dataset\n",
    "x_train = np.array(x_train_flatten/255)\n",
    "x_test = np.array(x_test_flatten/255)\n",
    "\n",
    "#Converting labels to one hot matrices\n",
    "y_train = np.eye(10)[train_set_y_orig.reshape(-1)].T #Here 10 is the number of classes or labels\n",
    "y_test = np.eye(10)[test_set_y_orig.reshape(-1)].T\n",
    "\n",
    "\n",
    "print(\"Train dataset shape = \" + str(x_train.shape))\n",
    "print(\"Test dataset shape = \" + str(x_test.shape))\n",
    "\n",
    "print(\"Train dataset Labels shape = \" + str(y_train.shape))\n",
    "print(\"Test dataset Labels shape = \" + str(y_test.shape))"
   ]
  },
  {
   "cell_type": "code",
   "execution_count": 7,
   "metadata": {
    "collapsed": true
   },
   "outputs": [],
   "source": [
    "n_x = x_train.shape[0]\n",
    "n_y = y_train.shape[0]\n",
    "#Declaring Placeholders\n",
    "X = tf.placeholder(tf.float32, shape=[n_x, None], name='X')\n",
    "Y = tf.placeholder(tf.float32, shape=[n_y, None], name='Y')"
   ]
  },
  {
   "cell_type": "code",
   "execution_count": 8,
   "metadata": {},
   "outputs": [],
   "source": [
    "#Variable Initialization\n",
    "W1 = tf.get_variable(\"W1\", [25, 784], initializer=tf.contrib.layers.xavier_initializer(seed=1)) #Here 25 is the number of neurons or nodes in the NN layer\n",
    "b1 = tf.get_variable(\"b1\", [25, 1], initializer=tf.zeros_initializer())\n",
    "W2 = tf.get_variable(\"W2\", [10, 25], initializer=tf.contrib.layers.xavier_initializer(seed=1)) #Here 12 is the number of neurons or nodes in the NN layer\n",
    "b2 = tf.get_variable(\"b2\", [10, 1], initializer=tf.zeros_initializer())\n",
    "W3 = tf.get_variable(\"W3\", [10, 10], initializer=tf.contrib.layers.xavier_initializer(seed=1)) #Here 6 is the number of neurons or nodes in the NN layer\n",
    "b3 = tf.get_variable(\"b3\", [10, 1], initializer=tf.zeros_initializer())\n",
    "\n",
    "#Define a dictionary with parameters\n",
    "parameters = {\"W1\": W1,\n",
    "              \"b1\": b1,\n",
    "              \"W2\": W2,\n",
    "              \"b2\": b2,\n",
    "              \"W3\": W3,\n",
    "              \"b3\": b3}"
   ]
  },
  {
   "cell_type": "code",
   "execution_count": 9,
   "metadata": {},
   "outputs": [
    {
     "name": "stdout",
     "output_type": "stream",
     "text": [
      "Z3 = Tensor(\"Add_2:0\", shape=(10, ?), dtype=float32)\n"
     ]
    }
   ],
   "source": [
    "#Model Creation and Forward Propogation\n",
    "Z1 = tf.add(tf.matmul(W1, X), b1)\n",
    "A1 = tf.nn.relu(Z1)\n",
    "Z2 = tf.add(tf.matmul(W2, A1), b2)\n",
    "A2 = tf.nn.relu(Z2)\n",
    "Z3 = tf.add(tf.matmul(W3, A2), b3)\n",
    "\n",
    "print(\"Z3 =\", str(Z3))"
   ]
  },
  {
   "cell_type": "code",
   "execution_count": 10,
   "metadata": {},
   "outputs": [
    {
     "name": "stdout",
     "output_type": "stream",
     "text": [
      "Shape Z3 Transpose = Tensor(\"transpose:0\", shape=(?, 10), dtype=float32)\n",
      "Shape Y Transpose = Tensor(\"transpose_1:0\", shape=(?, 10), dtype=float32)\n",
      "Cost = Tensor(\"Mean:0\", shape=(), dtype=float32)\n"
     ]
    }
   ],
   "source": [
    "#Cost Computation\n",
    "logits = tf.transpose(Z3)\n",
    "labels = tf.transpose(Y)\n",
    "print (\"Shape Z3 Transpose =\", str(logits))\n",
    "print (\"Shape Y Transpose =\", str(labels))\n",
    "cost = tf.reduce_mean(tf.nn.softmax_cross_entropy_with_logits(logits=logits, labels=labels))\n",
    "print(\"Cost =\", str(cost))"
   ]
  },
  {
   "cell_type": "code",
   "execution_count": 11,
   "metadata": {},
   "outputs": [
    {
     "name": "stdout",
     "output_type": "stream",
     "text": [
      "Cost after epoch 0: 2.333739\n",
      "Cost after epoch 100: 0.585104\n",
      "Cost after epoch 200: 0.311188\n",
      "Cost after epoch 300: 0.234928\n",
      "Cost after epoch 400: 0.195150\n",
      "Cost after epoch 500: 0.168396\n",
      "Parameters have been trained!\n",
      "Train Accuracy: 0.95315\n",
      "Test Accuracy: 0.9476\n"
     ]
    }
   ],
   "source": [
    "optimizer = tf.train.AdamOptimizer(learning_rate=0.001).minimize(cost)\n",
    "init = tf.global_variables_initializer()\n",
    "with tf.Session() as sess:\n",
    "    sess.run(init)\n",
    "    for epoch in range(501):\n",
    "        epoch_cost = 0.                       # Defines a cost related to an epoch\n",
    "        _ , batch_cost = sess.run([optimizer, cost], feed_dict={X: x_train, Y: y_train}) \n",
    "        if epoch % 100 == 0:\n",
    "            print (\"Cost after epoch %i: %f\" % (epoch, batch_cost))\n",
    "    # lets save the parameters in a variable\n",
    "    parameters = sess.run(parameters)\n",
    "    print (\"Parameters have been trained!\")\n",
    "    #Identify Correct Predictions\n",
    "    correct_prediction = tf.equal(tf.argmax(Z3), tf.argmax(Y))\n",
    "    #Calculate Accuracy\n",
    "    accuracy = tf.reduce_mean(tf.cast(correct_prediction, \"float\"))\n",
    "    print (\"Train Accuracy:\", accuracy.eval({X: x_train, Y: y_train}))\n",
    "    print (\"Test Accuracy:\", accuracy.eval({X: x_test, Y: y_test}))"
   ]
  },
  {
   "cell_type": "code",
   "execution_count": 16,
   "metadata": {},
   "outputs": [
    {
     "name": "stdout",
     "output_type": "stream",
     "text": [
      "Your algorithm predicts: y = 6\n"
     ]
    },
    {
     "data": {
      "text/plain": [
       "<matplotlib.image.AxesImage at 0x2b6177beb38>"
      ]
     },
     "execution_count": 16,
     "metadata": {},
     "output_type": "execute_result"
    }
   ],
   "source": [
    "#Prediction on Own Image\n",
    "\n",
    "import scipy\n",
    "from PIL import Image, ImageFilter\n",
    "from scipy import ndimage\n",
    "from matplotlib import pyplot as plt\n",
    "\n",
    "#Image Processing to fit the algorithm\n",
    "my_image = [imageprepare('images/handwriting.png')]\n",
    "my_image = np.transpose(my_image)\n",
    "\n",
    "\n",
    "W1 = tf.convert_to_tensor(parameters[\"W1\"])\n",
    "b1 = tf.convert_to_tensor(parameters[\"b1\"])\n",
    "W2 = tf.convert_to_tensor(parameters[\"W2\"])\n",
    "b2 = tf.convert_to_tensor(parameters[\"b2\"])\n",
    "W3 = tf.convert_to_tensor(parameters[\"W3\"])\n",
    "b3 = tf.convert_to_tensor(parameters[\"b3\"])\n",
    "    \n",
    "params = {\"W1\": W1,\n",
    "          \"b1\": b1,\n",
    "          \"W2\": W2,\n",
    "          \"b2\": b2,\n",
    "          \"W3\": W3,\n",
    "          \"b3\": b3}\n",
    "\n",
    "x = tf.placeholder(\"float\", [784, 1])\n",
    "\n",
    "z3 = forward_propagation_for_predict(x, params)\n",
    "\n",
    "p = tf.argmax(z3)\n",
    "\n",
    "sess = tf.Session()\n",
    "my_image_prediction = sess.run(p, feed_dict = {x: my_image})\n",
    "\n",
    "print(\"Your algorithm predicts: y = \" + str(np.squeeze(my_image_prediction)))\n",
    "image = np.array(plt.imread('images/handwriting.png'))\n",
    "plt.imshow(image)"
   ]
  },
  {
   "cell_type": "code",
   "execution_count": null,
   "metadata": {
    "collapsed": true
   },
   "outputs": [],
   "source": []
  }
 ],
 "metadata": {
  "kernelspec": {
   "display_name": "Python 3",
   "language": "python",
   "name": "python3"
  },
  "language_info": {
   "codemirror_mode": {
    "name": "ipython",
    "version": 3
   },
   "file_extension": ".py",
   "mimetype": "text/x-python",
   "name": "python",
   "nbconvert_exporter": "python",
   "pygments_lexer": "ipython3",
   "version": "3.6.3"
  }
 },
 "nbformat": 4,
 "nbformat_minor": 2
}
