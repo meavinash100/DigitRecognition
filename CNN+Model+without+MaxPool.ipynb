{
 "cells": [
  {
   "cell_type": "code",
   "execution_count": 1,
   "metadata": {
    "collapsed": true
   },
   "outputs": [],
   "source": [
    "import math\n",
    "import random\n",
    "import tensorflow as tf\n",
    "from tensorflow.python.framework import ops\n",
    "import numpy as np\n",
    "from tensorflow.examples.tutorials.mnist import input_data as mnist_data"
   ]
  },
  {
   "cell_type": "code",
   "execution_count": 2,
   "metadata": {
    "collapsed": true
   },
   "outputs": [],
   "source": [
    "def forward_propagation_for_predict(X, parameters):\n",
    "    # Retrieve the parameters from the dictionary \"parameters\" \n",
    "    W1 = parameters['W1']\n",
    "    W2 = parameters['W2']\n",
    "    W3 = parameters['W3']\n",
    "    W4 = parameters['W4']\n",
    "    W5 = parameters['W5']\n",
    "    b1 = parameters['b1']\n",
    "    b2 = parameters['b2']\n",
    "    b3 = parameters['b3']\n",
    "    b4 = parameters['b4']\n",
    "    b5 = parameters['b5']\n",
    "    \n",
    "    Z1 = tf.nn.conv2d(X, W1, strides = [1,1,1,1], padding = \"SAME\")\n",
    "    A1 = tf.nn.relu(Z1 + b1)\n",
    "    Z2 = tf.nn.conv2d(A1, W2, strides = [1,2,2,1], padding = \"SAME\")\n",
    "    A2 = tf.nn.relu(Z2 + b2)\n",
    "    Z3 = tf.nn.conv2d(A2, W3, strides = [1,2,2,1], padding = \"SAME\")\n",
    "    A3 = tf.nn.relu(Z3 + b3)    \n",
    "    P1 = tf.contrib.layers.flatten(A3)\n",
    "    Z4 = tf.add(tf.matmul(P1, W4), b4)\n",
    "    A4 = tf.nn.relu(Z4)\n",
    "    Z5 = tf.matmul(A4, W5) + b5\n",
    "    return Z5"
   ]
  },
  {
   "cell_type": "code",
   "execution_count": 3,
   "metadata": {
    "collapsed": true
   },
   "outputs": [],
   "source": [
    "def imageprepare(argv):\n",
    "    \"\"\"\n",
    "    This function returns the pixel values.\n",
    "    The imput is a png file location.\n",
    "    \"\"\"\n",
    "    im = Image.open(argv).convert('L')\n",
    "    width = float(im.size[0])\n",
    "    height = float(im.size[1])\n",
    "    newImage = Image.new('L', (28, 28), (255))  # creates white canvas of 28x28 pixels\n",
    "\n",
    "    if width > height:  # check which dimension is bigger\n",
    "        # Width is bigger. Width becomes 20 pixels.\n",
    "        nheight = int(round((20.0 / width * height), 0))  # resize height according to ratio width\n",
    "        if (nheight == 0):  # rare case but minimum is 1 pixel\n",
    "            nheight = 1\n",
    "            # resize and sharpen\n",
    "        img = im.resize((20, nheight), Image.ANTIALIAS).filter(ImageFilter.SHARPEN)\n",
    "        wtop = int(round(((28 - nheight) / 2), 0))  # calculate horizontal position\n",
    "        newImage.paste(img, (4, wtop))  # paste resized image on white canvas\n",
    "    else:\n",
    "        # Height is bigger. Heigth becomes 20 pixels.\n",
    "        nwidth = int(round((20.0 / height * width), 0))  # resize width according to ratio height\n",
    "        if (nwidth == 0):  # rare case but minimum is 1 pixel\n",
    "            nwidth = 1\n",
    "            # resize and sharpen\n",
    "        img = im.resize((nwidth, 20), Image.ANTIALIAS).filter(ImageFilter.SHARPEN)\n",
    "        wleft = int(round(((28 - nwidth) / 2), 0))  # caculate vertical pozition\n",
    "        newImage.paste(img, (wleft, 4))  # paste resized image on white canvas\n",
    "\n",
    "    # newImage.save(\"sample.png\n",
    "\n",
    "    tv = list(newImage.getdata())  # get pixel values\n",
    "\n",
    "    # normalize pixels to 0 and 1. 0 is pure white, 1 is pure black.\n",
    "    tva = [(255 - x) * 1.0 / 255.0 for x in tv]\n",
    "    return tva"
   ]
  },
  {
   "cell_type": "code",
   "execution_count": 4,
   "metadata": {},
   "outputs": [
    {
     "name": "stdout",
     "output_type": "stream",
     "text": [
      "Extracting data\\train-images-idx3-ubyte.gz\n",
      "Extracting data\\train-labels-idx1-ubyte.gz\n",
      "Extracting data\\t10k-images-idx3-ubyte.gz\n",
      "Extracting data\\t10k-labels-idx1-ubyte.gz\n",
      "mnist.train.images shape(60000, 28, 28, 1)\n",
      "mnist.test.images shape(10000, 28, 28, 1)\n",
      "mnist.train.images labels shape(60000, 10)\n",
      "mnist.test.images labels shape(10000, 10)\n"
     ]
    }
   ],
   "source": [
    "# Download images and labels into mnist.test (10K images+labels) and mnist.train (60K images+labels)\n",
    "mnist = mnist_data.read_data_sets(\"data\", one_hot=True, reshape=False, validation_size=0)\n",
    "print (\"mnist.train.images shape\" + str(mnist.train.images.shape))\n",
    "print (\"mnist.test.images shape\" + str(mnist.test.images.shape))\n",
    "print (\"mnist.train.images labels shape\" + str(mnist.train.labels.shape))\n",
    "print (\"mnist.test.images labels shape\" + str(mnist.test.labels.shape))"
   ]
  },
  {
   "cell_type": "code",
   "execution_count": 5,
   "metadata": {},
   "outputs": [
    {
     "name": "stdout",
     "output_type": "stream",
     "text": [
      "Train dataset shape = (60000, 28, 28, 1)\n",
      "Test dataset shape = (10000, 28, 28, 1)\n",
      "Train dataset Labels shape = (60000, 10)\n",
      "Test dataset Labels shape = (10000, 10)\n"
     ]
    }
   ],
   "source": [
    "x_train = np.array(mnist.train.images)\n",
    "x_test = np.array(mnist.test.images)\n",
    "\n",
    "y_train = np.array(mnist.train.labels) \n",
    "y_test = np.array(mnist.test.labels)\n",
    "\n",
    "print(\"Train dataset shape = \" + str(x_train.shape))\n",
    "print(\"Test dataset shape = \" + str(x_test.shape))\n",
    "\n",
    "print(\"Train dataset Labels shape = \" + str(y_train.shape))\n",
    "print(\"Test dataset Labels shape = \" + str(y_test.shape))"
   ]
  },
  {
   "cell_type": "code",
   "execution_count": 6,
   "metadata": {
    "collapsed": true
   },
   "outputs": [],
   "source": [
    "#Normalizing the dataset\n",
    "x_train/=255\n",
    "x_test/=255"
   ]
  },
  {
   "cell_type": "code",
   "execution_count": 7,
   "metadata": {
    "collapsed": true
   },
   "outputs": [],
   "source": [
    "ops.reset_default_graph()\n",
    "n_y = y_train.shape[1]\n",
    "#Declaring Placeholders\n",
    "X = tf.placeholder(tf.float32, shape=[None, 28, 28, 1], name='X') #As the image is 28*28*1\n",
    "Y = tf.placeholder(tf.float32, shape=[None, n_y], name='Y') #n_y is number of classes"
   ]
  },
  {
   "cell_type": "code",
   "execution_count": 8,
   "metadata": {
    "collapsed": true
   },
   "outputs": [],
   "source": [
    "#Variable Initialization\n",
    "W1 = tf.get_variable(\"W1\", [5, 5, 1, 4], initializer=tf.contrib.layers.xavier_initializer(seed=1)) # 5x5 patch, 1 input channel, 4 output channels\n",
    "b1 = tf.get_variable(\"b1\", [4], initializer=tf.zeros_initializer())\n",
    "W2 = tf.get_variable(\"W2\", [5, 5, 4, 8], initializer=tf.contrib.layers.xavier_initializer(seed=1))\n",
    "b2 = tf.get_variable(\"b2\", [8], initializer=tf.zeros_initializer())\n",
    "W3 = tf.get_variable(\"W3\", [4, 4, 8, 12], initializer=tf.contrib.layers.xavier_initializer(seed=1))\n",
    "b3 = tf.get_variable(\"b3\", [12], initializer=tf.zeros_initializer())\n",
    "\n",
    "W4 = tf.get_variable(\"W4\", [7*7*12, 100], initializer=tf.contrib.layers.xavier_initializer(seed=1))\n",
    "b4 = tf.get_variable(\"b4\", [100], initializer=tf.zeros_initializer())\n",
    "W5 = tf.get_variable(\"W5\", [100, 10], initializer=tf.contrib.layers.xavier_initializer())\n",
    "b5 = tf.get_variable(\"b5\", [10], initializer=tf.zeros_initializer())\n",
    "#Define a dictionary with parameters\n",
    "parameters = {\"W1\": W1,\n",
    "              \"b1\": b1,\n",
    "              \"W2\": W2,\n",
    "              \"b2\": b2,\n",
    "              \"W3\": W3,\n",
    "              \"b3\": b3,\n",
    "              \"W4\": W4,\n",
    "              \"b4\": b4,\n",
    "              \"W5\": W5,\n",
    "              \"b5\": b5}"
   ]
  },
  {
   "cell_type": "code",
   "execution_count": 9,
   "metadata": {},
   "outputs": [
    {
     "name": "stdout",
     "output_type": "stream",
     "text": [
      "Z5 = Tensor(\"Add_4:0\", shape=(?, 10), dtype=float32)\n"
     ]
    }
   ],
   "source": [
    "#Model Creation and Forward Propogation\n",
    "Z1 = tf.nn.conv2d(X, W1, strides = [1,1,1,1], padding = \"SAME\") #Output is 28*28\n",
    "A1 = tf.nn.relu(tf.add(Z1, b1))\n",
    "Z2 = tf.nn.conv2d(A1, W2, strides = [1,2,2,1], padding = \"SAME\") # output is 14x14\n",
    "A2 = tf.nn.relu(tf.add(Z2, b2))\n",
    "Z3 = tf.nn.conv2d(A2, W3, strides = [1,2,2,1], padding = \"SAME\") # output is 7x7\n",
    "A3 = tf.nn.relu(tf.add(Z3, b3))\n",
    "# Flatten the output for Fully connected layer\n",
    "P1 = tf.contrib.layers.flatten(A3)\n",
    "Z4 = tf.add(tf.matmul(P1, W4), b4)\n",
    "A4 = tf.nn.relu(Z4)\n",
    "Z5 = tf.add(tf.matmul(A4, W5), b5)\n",
    "#Z4 = tf.contrib.layers.fully_connected(P1, num_outputs = 10, activation_fn=None)\n",
    "print(\"Z5 =\", str(Z5))"
   ]
  },
  {
   "cell_type": "code",
   "execution_count": 10,
   "metadata": {},
   "outputs": [
    {
     "name": "stdout",
     "output_type": "stream",
     "text": [
      "Shape Z5  = Tensor(\"Add_4:0\", shape=(?, 10), dtype=float32)\n",
      "Shape Y  = Tensor(\"Y:0\", shape=(?, 10), dtype=float32)\n",
      "Cost = Tensor(\"Mean:0\", shape=(), dtype=float32)\n"
     ]
    }
   ],
   "source": [
    "#Cost Computation\n",
    "logits = Z5\n",
    "labels = Y\n",
    "predict_y = tf.nn.softmax(logits)\n",
    "print (\"Shape Z5  =\", str(logits))\n",
    "print (\"Shape Y  =\", str(labels))\n",
    "cost = tf.reduce_mean(tf.nn.softmax_cross_entropy_with_logits(logits=logits, labels=labels))\n",
    "print(\"Cost =\", str(cost))"
   ]
  },
  {
   "cell_type": "code",
   "execution_count": 11,
   "metadata": {},
   "outputs": [
    {
     "name": "stdout",
     "output_type": "stream",
     "text": [
      "Cost after epoch 0: 0.000536\n",
      "Cost after epoch 1: 0.000541\n",
      "Cost after epoch 2: 0.000433\n",
      "Cost after epoch 3: 0.000271\n",
      "Cost after epoch 4: 0.000306\n",
      "Parameters have been trained!\n",
      "Train Accuracy: 0.09035\n",
      "Test Accuracy: 0.0892\n"
     ]
    }
   ],
   "source": [
    "optimizer = tf.train.AdamOptimizer(learning_rate=0.0001).minimize(cost) #Changed Learning Rate\n",
    "init = tf.global_variables_initializer()\n",
    "with tf.Session() as sess:\n",
    "    sess.run(init)\n",
    "    for epoch in range(5):\n",
    "        for minibatch in range(600):\n",
    "            epoch_cost = 0.                       # Defines a cost related to an epoch\n",
    "            # Select a minibatch\n",
    "            batch_X, batch_Y = mnist.train.next_batch(100)\n",
    "            _ , minibatch_cost = sess.run([optimizer, cost], feed_dict={X: batch_X, Y: batch_Y}) \n",
    "            epoch_cost += minibatch_cost / 600\n",
    "        if epoch % 1 == 0:\n",
    "            print (\"Cost after epoch %i: %f\" % (epoch, epoch_cost))\n",
    "    # lets save the parameters in a variable\n",
    "    parameters = sess.run(parameters)\n",
    "    print (\"Parameters have been trained!\")\n",
    "    #Identify Correct Predictions\n",
    "    correct_prediction = tf.equal(tf.argmax(predict_y, 1), tf.argmax(Y, 1)) #Z5 should we replace? = tf.nn.softmax(Z5)\n",
    "    #Calculate Accuracy\n",
    "    accuracy = tf.reduce_mean(tf.cast(correct_prediction, tf.float32))\n",
    "    print (\"Train Accuracy:\", accuracy.eval({X: x_train, Y: y_train}))\n",
    "    print (\"Test Accuracy:\", accuracy.eval({X: x_test, Y: y_test}))"
   ]
  },
  {
   "cell_type": "code",
   "execution_count": null,
   "metadata": {},
   "outputs": [],
   "source": [
    "#Prediction on Own Image\n",
    "\n",
    "import scipy\n",
    "from PIL import Image, ImageFilter\n",
    "from scipy import ndimage\n",
    "from matplotlib import pyplot as plt\n",
    "\n",
    "#Image Processing to fit the algorithm\n",
    "my_image_logic = [imageprepare('images/handwriting.png')]\n",
    "my_image = np.transpose(my_image_logic)\n",
    "newArr=[[0 for d in range(28)] for y in range(28)]\n",
    "k = 0\n",
    "for i in range(28):\n",
    "    for j in range(28):\n",
    "        newArr[i][j]=my_image_logic[0][k]\n",
    "        k=k+1\n",
    "plt.imshow(newArr, interpolation='nearest')\n",
    "plt.show()\n",
    "i = np.array(newArr)\n",
    "i = i.reshape(1, 28, 28, 1)\n",
    "W1 = tf.convert_to_tensor(parameters[\"W1\"])\n",
    "W2 = tf.convert_to_tensor(parameters[\"W2\"])\n",
    "W3 = tf.convert_to_tensor(parameters[\"W3\"])\n",
    "W4 = tf.convert_to_tensor(parameters[\"W4\"])\n",
    "W5 = tf.convert_to_tensor(parameters[\"W5\"])\n",
    "b1 = tf.convert_to_tensor(parameters[\"b1\"])\n",
    "b2 = tf.convert_to_tensor(parameters[\"b2\"])\n",
    "b3 = tf.convert_to_tensor(parameters[\"b3\"])\n",
    "b4 = tf.convert_to_tensor(parameters[\"b4\"])\n",
    "b5 = tf.convert_to_tensor(parameters[\"b5\"])\n",
    "\n",
    "    \n",
    "params = {\"W1\": W1,\n",
    "          \"b1\": b1,\n",
    "          \"W2\": W2,\n",
    "          \"b2\": b2,\n",
    "          \"W3\": W3,\n",
    "          \"b3\": b3,\n",
    "          \"W4\": W4,\n",
    "          \"b4\": b4,\n",
    "          \"W5\": W5,\n",
    "          \"b5\": b5}\n",
    "\n",
    "x = tf.placeholder(tf.float32, [1, 28, 28, 1])\n",
    "\n",
    "z5 = forward_propagation_for_predict(x, params)\n",
    "\n",
    "p = tf.argmax(z5, 1)\n",
    "\n",
    "sess = tf.Session()\n",
    "my_image_prediction = sess.run(p, feed_dict = {x: i})\n",
    "\n",
    "print(\"Your algorithm predicts: y = \" + str(np.squeeze(my_image_prediction)))"
   ]
  },
  {
   "cell_type": "code",
   "execution_count": null,
   "metadata": {
    "collapsed": true
   },
   "outputs": [],
   "source": [
    "print (str(parameters[\"\"]))"
   ]
  },
  {
   "cell_type": "code",
   "execution_count": null,
   "metadata": {
    "collapsed": true
   },
   "outputs": [],
   "source": []
  }
 ],
 "metadata": {
  "kernelspec": {
   "display_name": "Python 3",
   "language": "python",
   "name": "python3"
  },
  "language_info": {
   "codemirror_mode": {
    "name": "ipython",
    "version": 3
   },
   "file_extension": ".py",
   "mimetype": "text/x-python",
   "name": "python",
   "nbconvert_exporter": "python",
   "pygments_lexer": "ipython3",
   "version": "3.6.3"
  }
 },
 "nbformat": 4,
 "nbformat_minor": 2
}
